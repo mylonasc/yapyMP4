{
  "nbformat": 4,
  "nbformat_minor": 0,
  "metadata": {
    "colab": {
      "provenance": [],
      "collapsed_sections": []
    },
    "kernelspec": {
      "name": "python3",
      "display_name": "Python 3"
    },
    "language_info": {
      "name": "python"
    }
  },
  "cells": [
    {
      "cell_type": "code",
      "execution_count": null,
      "metadata": {
        "id": "HPs7VLi1B-vE"
      },
      "outputs": [],
      "source": [
        "!pip install -i https://test.pypi.org/simple/ yapymp4-mylonasc==0.0.125a0\n",
        "!pip install pytube"
      ]
    },
    {
      "cell_type": "code",
      "source": [
        "from yapymp4 import version as v\n",
        "v.__version__"
      ],
      "metadata": {
        "colab": {
          "base_uri": "https://localhost:8080/",
          "height": 35
        },
        "id": "0aL0paM9Ot17",
        "outputId": "1e6b46a0-9edd-4f40-a09c-81fb2a14b028"
      },
      "execution_count": 1,
      "outputs": [
        {
          "output_type": "execute_result",
          "data": {
            "text/plain": [
              "'0.0.125a'"
            ],
            "application/vnd.google.colaboratory.intrinsic+json": {
              "type": "string"
            }
          },
          "metadata": {},
          "execution_count": 1
        }
      ]
    },
    {
      "cell_type": "code",
      "source": [
        "from yapymp4.mp4reader import MP4Atom"
      ],
      "metadata": {
        "id": "oUAgUWSHTQ1f"
      },
      "execution_count": 2,
      "outputs": []
    },
    {
      "cell_type": "code",
      "source": [
        "from pytube import YouTube\n",
        "y = YouTube('https://www.youtube.com/watch?v=vHGGQ7lw2fA&list=RDvHGGQ7lw2fA')\n",
        "v = y.streams.filter(mime_type = 'video/mp4')[0].download(output_path = '',filename = 'test.mp4')"
      ],
      "metadata": {
        "id": "X5107OHlCXzx"
      },
      "execution_count": 3,
      "outputs": []
    },
    {
      "cell_type": "code",
      "source": [
        "with open(v,'rb') as f:\n",
        "    data = f.read(200000) # 200 first kilobytes should suffice to get the header"
      ],
      "metadata": {
        "id": "j20SVm_XDeZ_"
      },
      "execution_count": 4,
      "outputs": []
    },
    {
      "cell_type": "code",
      "source": [
        "from yapymp4.mp4reader import MP4Atom\n",
        "root = MP4Atom.init_from_chunk(data, check_offsets_avail = True)\n",
        "root"
      ],
      "metadata": {
        "colab": {
          "base_uri": "https://localhost:8080/"
        },
        "id": "yk37De3dDTgR",
        "outputId": "0b84958d-1edc-4e55-adab-8d7fbbd9cfb7"
      },
      "execution_count": 5,
      "outputs": [
        {
          "output_type": "execute_result",
          "data": {
            "text/plain": [
              "(Atom of type '(root)' with 3 children\n",
              "  ftyp : (offs: 0, size: 24)\n",
              "  moov : (offs: 24, size: 142345)\n",
              "  mdat : (offs: 142369, size: 8603016))"
            ]
          },
          "metadata": {},
          "execution_count": 5
        }
      ]
    },
    {
      "cell_type": "code",
      "source": [
        "moov = root['moov']\n",
        "moov"
      ],
      "metadata": {
        "colab": {
          "base_uri": "https://localhost:8080/"
        },
        "id": "woYhI1fSB_XM",
        "outputId": "7421000f-fac0-4da6-8950-0f13900ff1d6"
      },
      "execution_count": 6,
      "outputs": [
        {
          "output_type": "execute_result",
          "data": {
            "text/plain": [
              "(Atom of type 'moov' with 4 children\n",
              "  mvhd : (offs: 32, size: 108)\n",
              "  trak : (offs: 140, size: 76477)\n",
              "  trak : (offs: 76617, size: 65636)\n",
              "  udta : (offs: 142253, size: 116))"
            ]
          },
          "metadata": {},
          "execution_count": 6
        }
      ]
    },
    {
      "cell_type": "code",
      "source": [
        "traks = moov['trak']\n",
        "traks"
      ],
      "metadata": {
        "colab": {
          "base_uri": "https://localhost:8080/"
        },
        "id": "04GIOsFGCNkT",
        "outputId": "8dda488a-6767-4c2f-ec4c-42470a38995f"
      },
      "execution_count": 7,
      "outputs": [
        {
          "output_type": "execute_result",
          "data": {
            "text/plain": [
              "[(Atom of type 'trak' with 3 children\n",
              "   tkhd : (offs: 148, size: 92)\n",
              "   edts : (offs: 240, size: 36)\n",
              "   mdia : (offs: 276, size: 76341)), (Atom of type 'trak' with 2 children\n",
              "   tkhd : (offs: 76625, size: 92)\n",
              "   mdia : (offs: 76717, size: 65536))]"
            ]
          },
          "metadata": {},
          "execution_count": 7
        }
      ]
    },
    {
      "cell_type": "markdown",
      "source": [
        "Read the tables that contain info about sample and chunk offsets and sizes. Not all fields are implemented yet! (check utils source)"
      ],
      "metadata": {
        "id": "ZBWhduYcFqC0"
      }
    },
    {
      "cell_type": "code",
      "source": [
        "stbl = traks[0]['mdia']['minf']['stbl'] \n",
        "stbl"
      ],
      "metadata": {
        "colab": {
          "base_uri": "https://localhost:8080/"
        },
        "id": "O4YuPW5hCRdm",
        "outputId": "8cca4216-b4a5-4ac8-c0d1-b7fb7379ec0a"
      },
      "execution_count": 8,
      "outputs": [
        {
          "output_type": "execute_result",
          "data": {
            "text/plain": [
              "(Atom of type 'stbl' with 7 children\n",
              "  stsd : (offs: 463, size: 154)\n",
              "  stts : (offs: 617, size: 24)\n",
              "  stsc : (offs: 641, size: 2224)\n",
              "  stco : (offs: 2865, size: 3116)\n",
              "  stsz : (offs: 5981, size: 36020)\n",
              "  stss : (offs: 42001, size: 300)\n",
              "  ctts : (offs: 42301, size: 34296))"
            ]
          },
          "metadata": {},
          "execution_count": 8
        }
      ]
    },
    {
      "cell_type": "code",
      "source": [
        "stsd_data = stbl['stsd']"
      ],
      "metadata": {
        "id": "fuz6rn0LFfl0"
      },
      "execution_count": 9,
      "outputs": []
    },
    {
      "cell_type": "code",
      "source": [
        "p = stsd_data.get_parsed_data()\n",
        "stsd_table = p['table_data']\n",
        "stsd_table"
      ],
      "metadata": {
        "colab": {
          "base_uri": "https://localhost:8080/"
        },
        "id": "edDRNbFLGA8s",
        "outputId": "c863921d-515c-4a14-a7df-a33fa89f5541"
      },
      "execution_count": 10,
      "outputs": [
        {
          "output_type": "execute_result",
          "data": {
            "text/plain": [
              "{'num_sample_desc': 138,\n",
              " 'data_fmt': b'avc1',\n",
              " 'data_reference_index': 1,\n",
              " 'description': 'The sample description table. Keeps track of how many compressed frames are stored in each sample.'}"
            ]
          },
          "metadata": {},
          "execution_count": 10
        }
      ]
    }
  ]
}